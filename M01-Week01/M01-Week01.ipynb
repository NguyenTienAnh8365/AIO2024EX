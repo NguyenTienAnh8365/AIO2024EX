{
 "cells": [
  {
   "cell_type": "markdown",
   "metadata": {},
   "source": [
    "EX1: Viết function thực hiện đánh giá classification model bằng F1-Score."
   ]
  },
  {
   "cell_type": "code",
   "execution_count": 9,
   "metadata": {},
   "outputs": [
    {
     "name": "stdout",
     "output_type": "stream",
     "text": [
      "F1-score is: 0.3636363636363636\n"
     ]
    }
   ],
   "source": [
    "def Calculate_F1_score(tp, fp, fn):\n",
    "    if type(tp) is not int:\n",
    "        raise TypeError('tp must be int')\n",
    "    if type(fp) is not int:\n",
    "        raise TypeError('fp must be int')\n",
    "    if type(fn) is not int:\n",
    "        raise TypeError('fn must be int')\n",
    "    if tp <= 0 or fp <= 0 or fn <= 0:\n",
    "        raise TypeError('tp, fp, fn must be greater than 0') \n",
    "    \n",
    "    P = tp / (tp + fp)\n",
    "    R = tp / (tp + fn)\n",
    "    F1 = 2 * ((P*R) / (P+R))\n",
    "    print(f'F1-score is: {F1}')\n",
    "\n",
    "Calculate_F1_score(tp=2, fp=3, fn=4)\n"
   ]
  },
  {
   "cell_type": "markdown",
   "metadata": {},
   "source": [
    "EX2: Viết function mô phỏng theo 3 activation function."
   ]
  },
  {
   "cell_type": "code",
   "execution_count": 1,
   "metadata": {},
   "outputs": [
    {
     "name": "stdout",
     "output_type": "stream",
     "text": [
      "Enter your selection: sigmoid, relu, elu\n",
      "Sigmoid(1.5) = 0.8175744761936437\n"
     ]
    }
   ],
   "source": [
    "import math\n",
    "\n",
    "def Sigmoid(x):\n",
    "    sigmoid_x = 1 / (1 + math.exp(-x))\n",
    "    return sigmoid_x\n",
    "\n",
    "def ReLU(x):\n",
    "    if x <= 0:\n",
    "        return 0\n",
    "    else:\n",
    "        return x\n",
    "\n",
    "def ELU(x, alpha=1.0):\n",
    "    if x <= 0:\n",
    "        return alpha * (math.exp(x) - 1)\n",
    "    else:\n",
    "        return x\n",
    "    \n",
    "def is_number(x):\n",
    "    try:\n",
    "        float(x)\n",
    "        return True\n",
    "    except ValueError:\n",
    "        return False\n",
    "\n",
    "def main():\n",
    "    x = input('Enter x: ').strip()\n",
    "    if not is_number(x):\n",
    "        raise TypeError('x must be a number')\n",
    "    \n",
    "    x = float(x)\n",
    "    \n",
    "    print('Enter your selection: sigmoid, relu, elu')\n",
    "    activation = input().strip().lower()\n",
    "\n",
    "    if activation == 'sigmoid':\n",
    "        print(f'Sigmoid({x}) = {Sigmoid(x)}')\n",
    "    elif activation == 'relu':\n",
    "        print(f'ReLU({x}) = {ReLU(x)}')\n",
    "    elif activation == 'elu':\n",
    "        print(f'ELU({x}) = {ELU(x)}')\n",
    "    else:\n",
    "        raise TypeError('You must choose 1 out of 3: sigmoid, relu, elu')\n",
    "    \n",
    "if __name__ == \"__main__\":\n",
    "    main()\n"
   ]
  },
  {
   "cell_type": "markdown",
   "metadata": {},
   "source": [
    "EX3: Viết function lựa chọn regression loss function để tính loss.\n"
   ]
  },
  {
   "cell_type": "code",
   "execution_count": 13,
   "metadata": {},
   "outputs": [
    {
     "name": "stdout",
     "output_type": "stream",
     "text": [
      "Enter your selection: MAE, MSE, RMSE\n",
      "Loss name: RMSE\n",
      "Sample-0: predict = 1.23, target = 0.22\n",
      "Sample-1: predict = 0.14, target = 7.83\n",
      "Sample-2: predict = 9.70, target = 5.97\n",
      "Sample-3: predict = 4.50, target = 7.99\n",
      "Sample-4: predict = 7.12, target = 3.98\n",
      "Avg Loss: 4.38\n"
     ]
    }
   ],
   "source": [
    "import math\n",
    "import random\n",
    "\n",
    "def MAE(y_true, y_pred):\n",
    "    if len(y_true) != len(y_pred):\n",
    "        raise ValueError('Length of y_true and y_pred must be the same')\n",
    "    total_error = sum(abs(yt - yp) for yt, yp in zip(y_true, y_pred))\n",
    "    mae = total_error / len(y_true)\n",
    "    return mae\n",
    "\n",
    "def MSE(y_true, y_pred):\n",
    "    if len(y_true) != len(y_pred):\n",
    "        raise ValueError('Length of y_true and y_pred must be the same')\n",
    "    total_error = sum((yt - yp) ** 2 for yt, yp in zip(y_true, y_pred))\n",
    "    mse = total_error / len(y_true)\n",
    "    return mse\n",
    "\n",
    "def RMSE(y_true, y_pred):\n",
    "    mse = MSE(y_true, y_pred)\n",
    "    rmse = math.sqrt(mse)\n",
    "    return rmse\n",
    "\n",
    "def main():\n",
    "    num_samples = input('Enter the number of samples: ').strip()\n",
    "    if not num_samples.isnumeric():\n",
    "        print('Number of samples must be an integer number')\n",
    "        return  \n",
    "    \n",
    "    num_samples = int(num_samples)  \n",
    "    \n",
    "    print('Enter your selection: MAE, MSE, RMSE')\n",
    "    loss_name = input().strip().upper()\n",
    "\n",
    "    y_true = [random.uniform(0, 10) for _ in range(num_samples)]\n",
    "    y_pred = [random.uniform(0, 10) for _ in range(num_samples)]\n",
    "\n",
    "    if loss_name == 'MAE':\n",
    "        loss = MAE(y_true, y_pred)\n",
    "    elif loss_name == 'MSE':\n",
    "        loss = MSE(y_true, y_pred)\n",
    "    elif loss_name == 'RMSE':\n",
    "        loss = RMSE(y_true, y_pred)\n",
    "    else:\n",
    "        print('Invalid loss name')\n",
    "        return\n",
    "    \n",
    "    print(f\"Loss name: {loss_name}\")\n",
    "    for i in range(num_samples):\n",
    "        print(f\"Sample-{i}: predict = {y_pred[i]:.2f}, target = {y_true[i]:.2f}\")\n",
    "    print(f\"Avg Loss: {loss:.2f}\")\n",
    "\n",
    "if __name__ == \"__main__\":\n",
    "    main()"
   ]
  },
  {
   "cell_type": "code",
   "execution_count": 14,
   "metadata": {},
   "outputs": [
    {
     "name": "stdout",
     "output_type": "stream",
     "text": [
      "Enter your selection: MAE, MSE, RMSE\n",
      "Loss name: MAE\n",
      "Sample-0: predict = 0.02, target = 2.93, Loss: 2.91\n",
      "Sample-1: predict = 2.71, target = 0.39, Loss: 2.32\n",
      "Sample-2: predict = 0.13, target = 5.35, Loss: 5.22\n",
      "Sample-3: predict = 9.93, target = 6.35, Loss: 3.57\n",
      "Sample-4: predict = 7.24, target = 5.66, Loss: 1.58\n"
     ]
    }
   ],
   "source": [
    "import math\n",
    "import random\n",
    "\n",
    "def MAE(y_true, y_pred):\n",
    "    return abs(y_true - y_pred)\n",
    "\n",
    "def MSE(y_true, y_pred):\n",
    "    return (y_true - y_pred) ** 2\n",
    "\n",
    "def RMSE(y_true, y_pred):\n",
    "    return math.sqrt(MSE(y_true, y_pred))\n",
    "\n",
    "def main():\n",
    "    num_samples = input('Enter the number of samples: ').strip()\n",
    "    if not num_samples.isnumeric():\n",
    "        print('Number of samples must be an integer number')\n",
    "        return  \n",
    "    \n",
    "    num_samples = int(num_samples)  \n",
    "    \n",
    "    print('Enter your selection: MAE, MSE, RMSE')\n",
    "    loss_name = input().strip().upper()\n",
    "\n",
    "    y_true = [random.uniform(0, 10) for _ in range(num_samples)]\n",
    "    y_pred = [random.uniform(0, 10) for _ in range(num_samples)]\n",
    "\n",
    "    print(f\"Loss name: {loss_name}\")\n",
    "    \n",
    "    for i in range(num_samples):\n",
    "        if loss_name == 'MAE':\n",
    "            loss = MAE(y_true[i], y_pred[i])\n",
    "        elif loss_name == 'MSE':\n",
    "            loss = MSE(y_true[i], y_pred[i])\n",
    "        elif loss_name == 'RMSE':\n",
    "            loss = RMSE(y_true[i], y_pred[i])\n",
    "        else:\n",
    "            print('Invalid loss name')\n",
    "            return\n",
    "        print(f\"Sample-{i}: predict = {y_pred[i]:.2f}, target = {y_true[i]:.2f}, Loss: {loss:.2f}\")\n",
    "\n",
    "if __name__ == \"__main__\":\n",
    "    main()\n"
   ]
  },
  {
   "cell_type": "markdown",
   "metadata": {},
   "source": [
    "EX4: Viết 4 functions để ước lượng các hàm số sau."
   ]
  },
  {
   "cell_type": "code",
   "execution_count": 29,
   "metadata": {},
   "outputs": [
    {
     "name": "stdout",
     "output_type": "stream",
     "text": [
      "Enter your selection: sin, cos, sinh, cosh\n",
      "cosh(3.14) = 11.573574824666185\n"
     ]
    }
   ],
   "source": [
    "# So sánh:\n",
    "# Trong hàm factorial(n), bạn muốn tính giai thừa của n, vì vậy bạn cần vòng lặp từ 1 đến n.\n",
    "# Trong hàm sin(x, n), bạn đang tính tổng của n số hạng đầu tiên của chuỗi Taylor cho sin(x), vì vậy bạn cần vòng lặp từ 0 đến n-1\n",
    "\n",
    "def factorial(n):\n",
    "    if n < 0:\n",
    "        raise ValueError('n must be non-negative for factorial calculation')\n",
    "    if n == 0:\n",
    "        return 1\n",
    "    factorial = 1\n",
    "    for i in range(1, n+1):\n",
    "        factorial *= i\n",
    "    return factorial\n",
    "\n",
    "def sin(x, n):\n",
    "    sin = 0\n",
    "    for i in range(n):\n",
    "        sin += ((-1)**i) * (x ** (2*i + 1)) / factorial(2*i + 1)\n",
    "    return sin\n",
    "\n",
    "def cos(x, n):\n",
    "    cos = 0\n",
    "    for i in range(n):\n",
    "        cos += ((-1)**i) * ((x**(2*i))/factorial(2*i))\n",
    "    return cos\n",
    "\n",
    "def sinh(x, n):\n",
    "    sinh = 0\n",
    "    for i in range(n):\n",
    "        sinh += (x**(2*i + 1)) / factorial(2*i + 1)\n",
    "    return sinh\n",
    "\n",
    "def cosh(x, n):\n",
    "    cosh = 0\n",
    "    for i in range(n):\n",
    "        cosh += (x**(2*i)) / factorial(2*i)\n",
    "    return cosh\n",
    "\n",
    "def main():\n",
    "    x = float(input('Enter x (radians): '))\n",
    "    n = int(input('Enter n (number of terms): '))\n",
    "    if n < 0:\n",
    "        raise ValueError(' n must be positive interger')\n",
    "    \n",
    "    print('Enter your selection: sin, cos, sinh, cosh')\n",
    "    a = input().strip().lower()\n",
    "\n",
    "    if a == 'sin':\n",
    "        print(f'sin({x}) = {sin(x, n)}')\n",
    "    elif a == 'cos':\n",
    "        print(f'cos({x}) = {cos(x, n)}')\n",
    "    elif a == 'sinh':\n",
    "        print(f'sinh({x}) = {sinh(x, n)}')\n",
    "    elif a == 'cosh':     \n",
    "        print(f'cosh({x}) = {cosh(x, n)}')\n",
    "    else:\n",
    "        print('Invalid loss name')\n",
    "        return\n",
    "    \n",
    "if __name__ == \"__main__\":\n",
    "    main()"
   ]
  },
  {
   "cell_type": "markdown",
   "metadata": {},
   "source": [
    "EX5: Viết function thực hiện Mean Difference of n^th Root Error:"
   ]
  },
  {
   "cell_type": "code",
   "execution_count": 10,
   "metadata": {},
   "outputs": [
    {
     "name": "stdout",
     "output_type": "stream",
     "text": [
      "Avg MD_nRE (n=2, p=1): 0.163\n"
     ]
    }
   ],
   "source": [
    "def MD_nRE(y_true, y_pred, n, p):\n",
    "    if len(y_true) != len(y_pred):\n",
    "        raise ValueError('Length of y_true and y_pred must be the same')\n",
    "\n",
    "    total_error = 0\n",
    "    m = len(y_true)\n",
    "\n",
    "    for yt, yp in zip(y_true, y_pred):\n",
    "        total_error += abs((yt ** (1/n)) - (yp ** (1/n))) ** p\n",
    "\n",
    "    md_nre = total_error / m\n",
    "    return md_nre\n",
    "\n",
    "y_true = [100, 50, 20, 5.5, 1.0, 0.6]\n",
    "y_pred = [99.5, 49.5, 19.5, 5.0, 0.5, 0.1]\n",
    "n = 2\n",
    "p = 1\n",
    "\n",
    "md_nre_value = MD_nRE(y_true, y_pred, n, p)\n",
    "print(f\"Avg MD_nRE (n={n}, p={p}): {md_nre_value:.3f}\")\n"
   ]
  },
  {
   "cell_type": "code",
   "execution_count": 9,
   "metadata": {},
   "outputs": [
    {
     "name": "stdout",
     "output_type": "stream",
     "text": [
      "y         y_hat     MAE       MD_nRE    \n",
      "------------------------------------\n",
      "100       99.5      0.5       0.025     \n",
      "50        49.5      0.5       0.035     \n",
      "20        19.5      0.5       0.056     \n",
      "5.5       5.0       0.5       0.109     \n",
      "1.0       0.5       0.5       0.293     \n",
      "0.6       0.1       0.5       0.458     \n"
     ]
    }
   ],
   "source": [
    "def MD_nRE_single(y_true, y_pred, n, p):\n",
    "    return abs((y_true ** (1/n)) - (y_pred ** (1/n))) ** p\n",
    "\n",
    "def main():\n",
    "    y_true = [100, 50, 20, 5.5, 1.0, 0.6]\n",
    "    y_pred = [99.5, 49.5, 19.5, 5.0, 0.5, 0.1]\n",
    "    n = 2\n",
    "    p = 1\n",
    "\n",
    "    print(f\"{'y':<10}{'y_hat':<10}{'MAE':<10}{'MD_nRE':<10}\")\n",
    "    print(\"-\" * 36)\n",
    "\n",
    "    for yt, yp in zip(y_true, y_pred):\n",
    "        mae = abs(yt - yp)\n",
    "        md_nre = MD_nRE_single(yt, yp, n, p)\n",
    "        print(f\"{yt:<10}{yp:<10}{mae:<10}{md_nre:<10.3f}\")\n",
    "\n",
    "if __name__ == \"__main__\":\n",
    "    main()"
   ]
  }
 ],
 "metadata": {
  "kernelspec": {
   "display_name": "Python 3",
   "language": "python",
   "name": "python3"
  },
  "language_info": {
   "codemirror_mode": {
    "name": "ipython",
    "version": 3
   },
   "file_extension": ".py",
   "mimetype": "text/x-python",
   "name": "python",
   "nbconvert_exporter": "python",
   "pygments_lexer": "ipython3",
   "version": "3.11.4"
  }
 },
 "nbformat": 4,
 "nbformat_minor": 2
}
