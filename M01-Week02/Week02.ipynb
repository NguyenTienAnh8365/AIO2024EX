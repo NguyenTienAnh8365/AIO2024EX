{
 "cells": [
  {
   "cell_type": "markdown",
   "metadata": {},
   "source": [
    "EX1:"
   ]
  },
  {
   "cell_type": "code",
   "execution_count": 2,
   "metadata": {},
   "outputs": [
    {
     "name": "stdout",
     "output_type": "stream",
     "text": [
      "[5, 5, 5, 5, 10, 12, 33, 33]\n"
     ]
    }
   ],
   "source": [
    "from collections import deque\n",
    "\n",
    "def max_sliding_window(num_list, k):\n",
    "    if k == 0:\n",
    "        return []\n",
    "\n",
    "    deq = deque()\n",
    "    max_values = []\n",
    "\n",
    "    for i in range(len(num_list)):\n",
    "        if deq and deq[0] < i - k + 1:\n",
    "            deq.popleft()\n",
    "\n",
    "        while deq and num_list[deq[-1]] < num_list[i]:\n",
    "            deq.pop()\n",
    "\n",
    "        deq.append(i)\n",
    "\n",
    "        if i >= k - 1:\n",
    "            max_values.append(num_list[deq[0]])\n",
    "\n",
    "    return max_values\n",
    "\n",
    "num_list = [3, 4, 5, 1, -44, 5, 10, 12, 33, 1]\n",
    "k = 3\n",
    "result = max_sliding_window(num_list, k)\n",
    "print(result)\n"
   ]
  },
  {
   "cell_type": "markdown",
   "metadata": {},
   "source": [
    "EX2"
   ]
  },
  {
   "cell_type": "code",
   "execution_count": 4,
   "metadata": {},
   "outputs": [
    {
     "name": "stdout",
     "output_type": "stream",
     "text": [
      "{'A': 2, 'I': 2, 'V': 1, 'E': 1, 'T': 1, 'N': 1, 'M': 1}\n"
     ]
    }
   ],
   "source": [
    "def count_word_return_dic(data):\n",
    "    dic = {}\n",
    "    for char in data:\n",
    "        dic[char] = data.count(char)\n",
    "    return dic\n",
    "\n",
    "string = \"AIVIETNAM\"\n",
    "print(count_word_return_dic(string))\n",
    "# O(n^2)"
   ]
  },
  {
   "cell_type": "code",
   "execution_count": 1,
   "metadata": {},
   "outputs": [
    {
     "name": "stdout",
     "output_type": "stream",
     "text": [
      "{'A': 2, 'I': 2, 'V': 1, 'E': 1, 'T': 1, 'N': 1, 'M': 1}\n"
     ]
    }
   ],
   "source": [
    "def count_word_return_dic(data):\n",
    "    dic = {}\n",
    "    for char in data:\n",
    "        if char in dic:\n",
    "            dic[char] += 1\n",
    "        else:\n",
    "            dic[char] = 1\n",
    "    return dic\n",
    "\n",
    "string = \"AIVIETNAM\"\n",
    "print(count_word_return_dic(string))\n",
    "# O(n)"
   ]
  },
  {
   "cell_type": "markdown",
   "metadata": {},
   "source": [
    "EX3:"
   ]
  },
  {
   "cell_type": "code",
   "execution_count": 2,
   "metadata": {},
   "outputs": [
    {
     "name": "stdout",
     "output_type": "stream",
     "text": [
      "{'he': 1, 'who': 3, 'conquers': 1, 'himself': 1, 'is': 3, 'the': 5, 'mightiest': 1, 'warrior': 1, 'try': 2, 'not': 1, 'to': 3, 'become': 2, 'a': 7, 'man': 6, 'of': 4, 'success': 3, 'but': 1, 'rather': 1, 'value': 1, 'one': 4, 'with': 4, 'courage': 1, 'makes': 1, 'majority': 1, 'secret': 1, 'in': 4, 'life': 2, 'for': 3, 'be': 1, 'ready': 1, 'his': 2, 'opportunity': 1, 'when': 2, 'it': 2, 'comes': 2, 'successful': 2, 'will': 2, 'profit': 1, 'from': 1, 'mistakes': 1, 'and': 1, 'again': 1, 'different': 1, 'way': 1, 'can': 3, 'lay': 1, 'firm': 1, 'foundation': 1, 'bricks': 1, 'others': 1, 'have': 1, 'thrown': 1, 'at': 1, 'him': 1, 'usually': 1, 'those': 1, 'are': 1, 'too': 1, 'busy': 1, 'looking': 1, 'we': 3, 'cannot': 1, 'solve': 1, 'problems': 1, 'kind': 1, 'thinking': 1, 'employed': 1, 'came': 1, 'up': 1, 'them': 1, 'just': 2, 'small': 1, 'positive': 1, 'thought': 1, 'morning': 1, 'change': 1, 'your': 1, 'whole': 1, 'day': 1, 'you': 3, 'get': 2, 'everything': 1, 'want': 2, 'if': 1, 'help': 1, 'enough': 1, 'other': 1, 'people': 1, 'what': 1, 'they': 1}\n"
     ]
    }
   ],
   "source": [
    "def count_words_return_dic_in_file(file_path):\n",
    "    word_count = {}\n",
    "    \n",
    "    try:\n",
    "        with open(file_path, 'r') as file:\n",
    "            text = file.read()\n",
    "            words = text.lower().split()  \n",
    "\n",
    "            for word in words:\n",
    "                if word in word_count:\n",
    "                    word_count[word] += 1\n",
    "                else:\n",
    "                    word_count[word] = 1\n",
    "                    \n",
    "    except FileNotFoundError:\n",
    "        print(f\"The file {file_path} does not exist.\")\n",
    "    \n",
    "    return word_count\n",
    "\n",
    "file_path = \"P1_data.txt\"\n",
    "word_counts = count_words_return_dic_in_file(file_path)\n",
    "print(word_counts)\n"
   ]
  },
  {
   "cell_type": "markdown",
   "metadata": {},
   "source": [
    "EX4:"
   ]
  },
  {
   "cell_type": "code",
   "execution_count": 14,
   "metadata": {},
   "outputs": [
    {
     "name": "stdout",
     "output_type": "stream",
     "text": [
      "Khoảng cách Levenshtein giữa 'kittens' và 'sitting' là: 3\n"
     ]
    }
   ],
   "source": [
    "def levenshtein_distance(source, target):\n",
    "    M = len(source)\n",
    "    N = len(target)\n",
    "    \n",
    "    # 1: Xây dựng ma trận lưu trữ\n",
    "    D = [[0] * (N + 1) for _ in range(M + 1)]\n",
    "    \n",
    "    # 2: Khởi tạo hàng và cột đầu tiên\n",
    "    for i in range(M + 1):\n",
    "        D[i][0] = i\n",
    "    for j in range(N + 1):\n",
    "        D[0][j] = j\n",
    "    \n",
    "    # 3: Tính toán các giá trị cho các ô còn lại trong ma trận\n",
    "    for i in range(1, M + 1):\n",
    "        for j in range(1, N + 1):\n",
    "            del_cost = D[i-1][j] + 1  # Chi phí xóa ký tự\n",
    "            ins_cost = D[i][j-1] + 1  # Chi phí thêm ký tự\n",
    "            if source[i-1] == target[j-1]:\n",
    "                sub_cost = D[i-1][j-1]  # Không có chi phí thay thế nếu ký tự giống nhau\n",
    "            else:\n",
    "                sub_cost = D[i-1][j-1] + 1  # Chi phí thay thế ký tự\n",
    "            \n",
    "            D[i][j] = min(del_cost, ins_cost, sub_cost)\n",
    "    \n",
    "    # 4: Trả về giá trị tại ô cuối cùng của ma trận\n",
    "    return D[M][N]\n",
    "\n",
    "# Ví dụ sử dụng\n",
    "source = \"kittens\"\n",
    "target = \"sitting\"\n",
    "print(f\"Khoảng cách Levenshtein giữa '{source}' và '{target}' là: {levenshtein_distance(source, target)}\")\n"
   ]
  }
 ],
 "metadata": {
  "kernelspec": {
   "display_name": "Python 3",
   "language": "python",
   "name": "python3"
  },
  "language_info": {
   "codemirror_mode": {
    "name": "ipython",
    "version": 3
   },
   "file_extension": ".py",
   "mimetype": "text/x-python",
   "name": "python",
   "nbconvert_exporter": "python",
   "pygments_lexer": "ipython3",
   "version": "3.11.4"
  }
 },
 "nbformat": 4,
 "nbformat_minor": 2
}
